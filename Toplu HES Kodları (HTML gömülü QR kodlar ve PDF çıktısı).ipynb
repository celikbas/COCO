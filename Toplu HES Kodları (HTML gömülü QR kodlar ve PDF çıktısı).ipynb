{
 "cells": [
  {
   "cell_type": "code",
   "execution_count": null,
   "metadata": {},
   "outputs": [],
   "source": [
    "\"\"\"HES Kodları üretim sistemi.\n",
    "HES Kodlarının toplu tutulup kontrol yapılan yerlerde gerekli olabilir.\n",
    "\n",
    "Aşağıdaki kütüphaneleri kurmak gerekli olacaktır.\n",
    "!pip install pyqrcode\n",
    "!pip install pypng\n",
    "!pip install weasyprint\n",
    "\"\"\""
   ]
  },
  {
   "cell_type": "code",
   "execution_count": null,
   "metadata": {},
   "outputs": [],
   "source": [
    "# -*- coding: utf-8 -*-\n",
    "import locale # Listelemek için bunu kullandım ama bi boka yaramadı.\n",
    "locale.setlocale(locale.LC_ALL, 'tr_TR.UTF-8')\n",
    "import pandas as pd\n",
    "import pyqrcode \n",
    "import png "
   ]
  },
  {
   "cell_type": "code",
   "execution_count": null,
   "metadata": {},
   "outputs": [],
   "source": [
    "df = pd.read_csv('HES_list.csv', header=0)\n",
    "df['cleanQR'] = df['qrCode'].str.replace(r'\\W+', '')\n",
    "df.drop_duplicates(subset =\"cleanQR\", keep = 'last', inplace = True)\n",
    "df = df.sort_values(by=['Name'])\n",
    "#print(df)"
   ]
  },
  {
   "cell_type": "code",
   "execution_count": null,
   "metadata": {},
   "outputs": [],
   "source": [
    "# Create html file:\n",
    "html = \"\"\"\n",
    "<!DOCTYPE html>\n",
    "<html>\n",
    "<meta charset=\"utf-8\"/>\n",
    "<head>\n",
    "<title>HES Kodları Listesi</title>\n",
    "<style>\n",
    ".floating-box {\n",
    "  float: left;\n",
    "  width: 120px;\n",
    "  height: 130px;\n",
    "  margin: 2px;\n",
    "  border: 3px solid #73AD21;\n",
    "  text-align: center;\n",
    "  display: block;\n",
    "}\n",
    "span.small {\n",
    "  display: inline-block;\n",
    "  font-size: smaller;\n",
    "}\n",
    "</style>\n",
    "</head>\n",
    "<body>\n",
    "<h2>HES Kodları Listesi</h2>\n",
    "\"\"\""
   ]
  },
  {
   "cell_type": "code",
   "execution_count": null,
   "metadata": {},
   "outputs": [],
   "source": [
    "from io import BytesIO\n",
    "import base64\n",
    "\n",
    "def pngMaker(text):   \n",
    "    qrData = text\n",
    "    image = pyqrcode.create(qrData)\n",
    "    buffer = BytesIO()\n",
    "    image.png(buffer, scale = 3)\n",
    "    img_str = base64.b64encode(buffer.getvalue()).decode(\"utf-8\")\n",
    "   \n",
    "    return img_str"
   ]
  },
  {
   "cell_type": "code",
   "execution_count": null,
   "metadata": {},
   "outputs": [],
   "source": [
    "for ind, value in df.iterrows():\n",
    "    text = '<span class=\"small\">'+value['Name']+'<br>'+value['qrCode']+'</span>'\n",
    "    html += '<div class=\"floating-box\"><img src=\"data:image/png;base64,'+pngMaker(value['cleanQR'])+'\">'+text+'</div>'+\"\\n\"\n",
    "    \n",
    "html += '</body></html>'"
   ]
  },
  {
   "cell_type": "code",
   "execution_count": null,
   "metadata": {},
   "outputs": [],
   "source": [
    "# save html file with images embedded\n",
    "# with open(\"index.html\", \"w\") as outf:\n",
    "#     outf.write(str(html))"
   ]
  },
  {
   "cell_type": "code",
   "execution_count": null,
   "metadata": {},
   "outputs": [],
   "source": [
    "from weasyprint import HTML, CSS\n",
    "\n",
    "htmlpdf = HTML(string=html) \n",
    "css = CSS(string='@page {size: A4 portrait; margin: 1cm;}')\n",
    "htmlpdf.write_pdf('pdfoutput.pdf', stylesheets=[css])"
   ]
  }
 ],
 "metadata": {
  "kernelspec": {
   "display_name": "Python 3",
   "language": "python",
   "name": "python3"
  },
  "language_info": {
   "codemirror_mode": {
    "name": "ipython",
    "version": 3
   },
   "file_extension": ".py",
   "mimetype": "text/x-python",
   "name": "python",
   "nbconvert_exporter": "python",
   "pygments_lexer": "ipython3",
   "version": "3.7.7"
  }
 },
 "nbformat": 4,
 "nbformat_minor": 4
}
